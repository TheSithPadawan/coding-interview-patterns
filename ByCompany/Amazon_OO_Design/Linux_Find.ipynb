{
 "cells": [
  {
   "cell_type": "markdown",
   "source": [
    "implemnet linux find command as an api ,the api willl support finding files that has given size requirements and a file with a certain format like\n",
    "\n",
    "    find all file >5mb\n",
    "    find all xml\n",
    "    Assume file class\n",
    "    {\n",
    "    get name()\n",
    "    directorylistfile()\n",
    "    getFile()\n",
    "    create a library flexible that is flexible\n",
    "    Design clases,interfaces.\n"
   ],
   "metadata": {}
  },
  {
   "cell_type": "code",
   "execution_count": 22,
   "source": [
    "from abc import ABC, abstractmethod\n",
    "\n",
    "# FileObject and FileSystems are copied directly from LC 588\n",
    "\n",
    "class FileObject:\n",
    "    def __init__(self, path=None):\n",
    "        self.path = path\n",
    "        # handles subdirectories\n",
    "        self.children = dict()\n",
    "        self.is_file = False\n",
    "        self.contents = []\n",
    "        self.size = 0\n",
    "\n",
    "class FileSystem:\n",
    "\n",
    "    def __init__(self):\n",
    "        self.rootdir = FileObject()\n",
    "\n",
    "    @property\n",
    "    def root_dir(self):\n",
    "        return self.rootdir\n",
    "\n",
    "    # create directory or file\n",
    "    def create_file(self, path: str) -> None:\n",
    "        paths = path.split('/')\n",
    "        itr = self.rootdir\n",
    "        for p in paths:\n",
    "            if not p:\n",
    "                continue\n",
    "            if p not in itr.children:\n",
    "                itr.children[p] = FileObject(p)\n",
    "            itr = itr.children[p]\n",
    "        itr.is_file = True\n",
    "        itr.type = itr.path.split('.')[-1]\n",
    "\n",
    "class Filter(ABC):\n",
    "\n",
    "    @abstractmethod\n",
    "    def apply(self, fileobj):\n",
    "        pass\n",
    "\n",
    "class SizeFilter(Filter):\n",
    "    def __init__(self, size_limit=0) -> None:\n",
    "        self.size_limit = size_limit\n",
    "\n",
    "    def apply(self, fileobj):\n",
    "        return fileobj.size < self.size_limit\n",
    "\n",
    "class TypeFilter(Filter):\n",
    "    def __init__(self, filetypes=[]) -> None:\n",
    "        self.filetypes = filetypes\n",
    "    \n",
    "    def apply(self, fileobj):\n",
    "        return fileobj.type in self.filetypes\n",
    "\n",
    "class Finder:\n",
    "    def __init__(self, filterobj, rootdir):\n",
    "        self.filter = filterobj\n",
    "        self.rootdir = rootdir\n",
    "    \n",
    "    def find(self):\n",
    "        results = []\n",
    "        self.dfs(self.rootdir, [], results)\n",
    "        return results\n",
    "    \n",
    "    def dfs(self, node, prefix, results):\n",
    "        if node.is_file and self.filter.apply(node):\n",
    "            results.append('/'.join(prefix))\n",
    "            return\n",
    "        \n",
    "        for c in node.children:\n",
    "            prefix.append(c)\n",
    "            self.dfs(node.children[c], prefix, results)\n",
    "            prefix.pop()\n",
    "\n",
    "    "
   ],
   "outputs": [],
   "metadata": {}
  },
  {
   "cell_type": "code",
   "execution_count": 23,
   "source": [
    "# Example usage\n",
    "filesys = FileSystem()\n",
    "filesys.create_file('/rongrong/coding/soln.cpp')\n",
    "filesys.create_file('/rongrong/company/amz.cpp')\n",
    "filesys.create_file('/rongrong/design/ood.ipynb')\n",
    "filesys.create_file('/rongrong/entertain/photo.jpg')"
   ],
   "outputs": [],
   "metadata": {}
  },
  {
   "cell_type": "code",
   "execution_count": 24,
   "source": [
    "type_finder = Finder(TypeFilter(filetypes=['cpp']), filesys.root_dir)\n",
    "type_finder.find()"
   ],
   "outputs": [
    {
     "output_type": "execute_result",
     "data": {
      "text/plain": [
       "['rongrong/coding/soln.cpp', 'rongrong/company/amz.cpp']"
      ]
     },
     "metadata": {},
     "execution_count": 24
    }
   ],
   "metadata": {}
  },
  {
   "cell_type": "code",
   "execution_count": null,
   "source": [],
   "outputs": [],
   "metadata": {}
  }
 ],
 "metadata": {
  "orig_nbformat": 4,
  "language_info": {
   "name": "python",
   "version": "3.7.3",
   "mimetype": "text/x-python",
   "codemirror_mode": {
    "name": "ipython",
    "version": 3
   },
   "pygments_lexer": "ipython3",
   "nbconvert_exporter": "python",
   "file_extension": ".py"
  },
  "kernelspec": {
   "name": "python3",
   "display_name": "Python 3.7.3 64-bit"
  },
  "interpreter": {
   "hash": "31f2aee4e71d21fbe5cf8b01ff0e069b9275f58929596ceb00d14d90e3e16cd6"
  }
 },
 "nbformat": 4,
 "nbformat_minor": 2
}